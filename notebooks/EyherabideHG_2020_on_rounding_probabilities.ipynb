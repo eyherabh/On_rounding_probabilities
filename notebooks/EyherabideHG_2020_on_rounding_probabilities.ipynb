{
 "cells": [
  {
   "cell_type": "markdown",
   "metadata": {},
   "source": [
    "# On rounding probabilities\n",
    "\n",
    "**Ph.D. Hugo Gabriel Eyherabide**</br>\n",
    "Created: 19 June 2020"
   ]
  },
  {
   "cell_type": "markdown",
   "metadata": {},
   "source": [
    "## Bomze et al. (2014), revisited"
   ]
  },
  {
   "cell_type": "markdown",
   "metadata": {},
   "source": [
    "### Clarifying definition of $k(\\mathbf{y})$\n",
    "\n",
    "In section 2, the unknown predecende of the $\\in$ operator makes the definition of $k(\\mathbf{y})$ not immediately evident. Specifically, the definition is written as follows\n",
    "\n",
    "\\begin{equation}\n",
    "k(\\mathbf{y}):=\\sum_{i=1}^{n}{s(y_i)}=r-\\sum_{i=1}^{n}{\\lfloor y_i \\rfloor}\\in[0:n-1]\n",
    "\\end{equation}\n",
    "\n",
    "thereby raising questions on what should belong to $[0:n-1]$. It cannot be $\\lfloor y_i \\rfloor$ or $\\sum_{i=1}^{n}{\\lfloor y_i \\rfloor}$. Both can reach values $\\ge n$ when $r\\ge n$, e.g. when $\\mathbf{y}=[r,0,...]$. Hence, it must be $k(\\mathbf{y})$.\n",
    "\n",
    "To prove this, recall that $0\\le s(y_i) < 1$, hence $0\\le k(\\mathbf{y}) < n$. Actually, $k(\\mathbf{y}) < n$ because $k(\\mathbf{y})$ is an integer (in fact, $k(\\mathbf{y})\\in \\mathbb{N}$). Also, $k(\\mathbf{y})\\le r$. Putting this together, it follows that $k(\\mathbf{y})\\in [0:\\mu_{rn}]$ (with $\\mu_{rn} = \\min\\{n-1, r\\}$, as in Bomze et al., 2014).\n",
    "\n",
    "To summarize, $k(\\mathbf{y})$ can be defined simply as \n",
    "\n",
    "\\begin{equation}\n",
    "k(\\mathbf{y}):=\\sum_{i=1}^{n}{s(y_i)}=r-\\sum_{i=1}^{n}{\\lfloor y_i \\rfloor}\n",
    "\\end{equation}\n",
    "\n",
    "which implies that $k(\\mathbf{y})\\in [0:\\mu_{rn}]$. \n",
    "\n",
    "This revised definition may neither be as synthetic as the original nor provide further insight in its original context (in that case, $r \\gg n$, with reduces $[0:\\mu_{rn}]$ to $[0:n-1]$). However, it is still more accurate and, by explicitly resolving the ambiguity mentioned above, some may find it easier to read and interpret.  "
   ]
  },
  {
   "cell_type": "markdown",
   "metadata": {},
   "source": [
    "### Redundant constraints on $\\psi$ in Theorem 1\n",
    "\n",
    "Theorem 1 requires that $\\psi$ \n",
    "+ is strictly increasing in $\\mathbb{R}_+$, namely $\\forall y>x, \\psi(y)>\\psi(x)$.\n",
    "+ $\\forall t>0, 1+\\psi(t) \\le \\psi(1+t)$.\n",
    "+ $\\forall t>0, \\psi(|1-t|) < 1+\\psi(t)$.\n",
    "\n",
    "However, the last condition is redundant and can be removed. To provide this, consider first the case in which $t\\ge 1$. Then, the last condition becomes $\\psi(t-1)< 1+\\psi(t)$, which is already guaranteed by the fact that $\\psi(t-1)<\\psi(t)$ as per the first condition. \n",
    "\n",
    "Now, consider the case in which $0<t<1$. The last condition can then be written as $ \\psi(1-t)-\\psi(t)< 1 $. However, this is already guaranteed by the first two conditions. Specifically, the second condition ensures that, in the limit for $t \\to 0$, $\\psi(1+t)-\\psi(t)<1$ and, by ensuring that $\\psi(1+t)>\\psi(1-t)$, the first condition ensures that $\\psi(1-t)-\\psi(t)<1$. Since the first condition also ensured that $\\forall x<y\\le0.5, \\psi(x)<\\psi(y)<\\psi(1-y)<\\psi(x)$, then $\\psi(1-t)-\\psi(t)<1$ holds for all values of $0<t\\le0.5$. The argument for values of $0.5\\le t<1$ are analogous. Note that continuity of $\\psi$ is not a requirement in this argument."
   ]
  },
  {
   "cell_type": "markdown",
   "metadata": {},
   "source": [
    "### On the proof of theorem 1\n",
    "\n",
    "#### On the implication of $u_i < \\lfloor y_i \\rfloor$\n",
    "\n",
    "The proof states that $u_i < \\lfloor y_i \\rfloor$ implies that $\\exists j\\neq i : u_j\\ge \\lfloor y_j \\rfloor +1 \\ge 1$ and $u_j > y_j$. However, $u_j\\ge \\lfloor y_j \\rfloor +1$ already ensures that $u_j\\ge 1$, Further, since  $u_j \\in \\mathbb{N}$ and $\\lfloor y_j \\rfloor \\in \\mathbb{N}$, then $u_j\\ge \\lfloor y_j \\rfloor +1 \\iff u_j > y_j$. Hence, the statement can be reduced to \n",
    "\n",
    "\\begin{equation}\n",
    "u_i < \\lfloor y_i \\rfloor \\Rightarrow u_j > y_j\n",
    "\\end{equation}\n",
    "\n",
    "#### Necessity and sufficiency of $u_i < \\lfloor y_i \\rfloor$\n",
    "\n",
    "The condition $u_i < \\lfloor y_i \\rfloor$ is only necessary for $u_j > y_j$ to occur when $\\mathbf{y} \\in \\mathbb{N}_r^n$. In that case, $y_i = \\lfloor y_i \\rfloor$. Hence, if $\\forall i, u_i \\ge y_i$ and $\\exists j: u_j > y_j$, then $r = \\mathbf{e}^T\\mathbf{y} < \\mathbf{e}^T\\mathbf{u}$. This result contradicts the fact that $\\mathbf{u} \\in \\mathbb{N}_r^n$, thereby implying that $u_i < \\lfloor y_i \\rfloor$ is necessary for $u_j>y_j$ to occur when $\\mathbf{y} \\in \\mathbb{N}_r^n$. \n",
    "\n",
    "However, if $\\mathbf{y} \\in r \\Delta^n$ but $\\mathbf{y} \\notin \\mathbb{N}_r^n$, then $\\forall i, y_i > \\lfloor y_i \\rfloor$. Hence, $r = \\mathbf{e}^T\\mathbf{y} > \\mathbf{e}^T\\mathbf{u}$ unless $\\exists j: u_j>y_j$. The condition is necessary but not sufficient. Nevertheless, it holds regardless of whether $\\exists k:u_k < \\lfloor y_k \\rfloor$, thus rendering the latter inesssential. \n",
    "\n",
    "#### Tighter bounds\n",
    "\n",
    "The statement in the previous section can be unified and made tighter as follows\n",
    "\n",
    "\\begin{equation}\n",
    "\\exists i: u_i < y_i \\iff \\exists j:u_j > y_j\n",
    "\\end{equation}\n",
    "\n",
    "Indeed, if any of the sides hold without the other, then $\\mathbf{e}^T\\mathbf{u}\\neq r$, contradicting the fact that $\\mathbf{u} \\notin \\mathbb{N}_r^n$."
   ]
  },
  {
   "cell_type": "code",
   "execution_count": null,
   "metadata": {},
   "outputs": [],
   "source": []
  }
 ],
 "metadata": {
  "kernelspec": {
   "display_name": "Python 3",
   "language": "python",
   "name": "python3"
  },
  "language_info": {
   "codemirror_mode": {
    "name": "ipython",
    "version": 3
   },
   "file_extension": ".py",
   "mimetype": "text/x-python",
   "name": "python",
   "nbconvert_exporter": "python",
   "pygments_lexer": "ipython3",
   "version": "3.5.2"
  }
 },
 "nbformat": 4,
 "nbformat_minor": 4
}
