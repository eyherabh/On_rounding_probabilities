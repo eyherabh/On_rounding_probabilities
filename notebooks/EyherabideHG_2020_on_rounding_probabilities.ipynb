{
 "cells": [
  {
   "cell_type": "markdown",
   "metadata": {},
   "source": [
    "# Notes on Bomze et al. (2014)\n",
    "\n",
    "## Section 2, equation defining $k(\\mathbf{y})$\n",
    "\n",
    "Section 2 defines $k(\\mathbf{y}):=\\sum_{i=1}^{n}{s(y_i)}=r-\\sum_{i=1}^{n}{\\lfloor y_i \\rfloor}\\in[0:n-1]$ which makes it unclear what should belong to $[0:n-1]$. It cannot be $\\lfloor y_i \\rfloor$ or $\\sum_{i=1}^{n}{\\lfloor y_i \\rfloor}$ because both can certainly reach values $\\ge n$ so long as $r\\ge n$, e.g. in the case of $\\mathbf{y}=[r,0,...]$. So it must be for $k(\\mathbf{y})$. To prove this, recall that $0\\le s(y_i) < 1$. Hence, $0\\le k(\\mathbf{y}) \\le n$ and, because $k(\\mathbf{y})$ is a non-negative integer, it follows that $0 \\le k(\\mathbf{y})\\le n-1$. Finally, since $k(\\mathbf{y})\\le r$, it follows that $k(\\mathbf{y})\\in [0:\\mu_{rn}]$, where $\\mu_{rn} = \\min\\{n-1, r\\}$, which is a limit more accurate but may not provide further insight in the context of the original publication as $r \\gg n$."
   ]
  },
  {
   "cell_type": "code",
   "execution_count": null,
   "metadata": {},
   "outputs": [],
   "source": []
  }
 ],
 "metadata": {
  "kernelspec": {
   "display_name": "Python 3",
   "language": "python",
   "name": "python3"
  },
  "language_info": {
   "codemirror_mode": {
    "name": "ipython",
    "version": 3
   },
   "file_extension": ".py",
   "mimetype": "text/x-python",
   "name": "python",
   "nbconvert_exporter": "python",
   "pygments_lexer": "ipython3",
   "version": "3.5.2"
  }
 },
 "nbformat": 4,
 "nbformat_minor": 4
}
