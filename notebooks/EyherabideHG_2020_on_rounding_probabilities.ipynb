{
 "cells": [
  {
   "cell_type": "markdown",
   "metadata": {},
   "source": [
    "# Notes on Bomze et al. (2014)\n",
    "\n",
    "## Section 2, clarifying equation defining $k(\\mathbf{y})$\n",
    "\n",
    "Section 2 defines $k(\\mathbf{y}):=\\sum_{i=1}^{n}{s(y_i)}=r-\\sum_{i=1}^{n}{\\lfloor y_i \\rfloor}\\in[0:n-1]$ which makes it unclear what should belong to $[0:n-1]$. It cannot be $\\lfloor y_i \\rfloor$ or $\\sum_{i=1}^{n}{\\lfloor y_i \\rfloor}$ because both can certainly reach values $\\ge n$ so long as $r\\ge n$, e.g. in the case of $\\mathbf{y}=[r,0,...]$. So it must be for $k(\\mathbf{y})$. To prove this, recall that $0\\le s(y_i) < 1$. Hence, $0\\le k(\\mathbf{y}) \\le n$ and, because $k(\\mathbf{y})$ is a non-negative integer, it follows that $0 \\le k(\\mathbf{y})\\le n-1$. Finally, since $k(\\mathbf{y})\\le r$, it follows that $k(\\mathbf{y})\\in [0:\\mu_{rn}]$, where $\\mu_{rn} = \\min\\{n-1, r\\}$, which is a limit more accurate but may not provide further insight in the context of the original publication as $r \\gg n$."
   ]
  },
  {
   "cell_type": "markdown",
   "metadata": {},
   "source": [
    "## Section 2, theorem 1, redundant conditions on $\\psi$\n",
    "\n",
    "Theorem 1 requires that $\\psi$ \n",
    "+ is strictly increasing in $\\mathbb{R}_+$, namely $\\forall y>x, \\psi(y)>\\psi(x)$.\n",
    "+ $\\forall t>0, 1+\\psi(t) \\le \\psi(1+t)$.\n",
    "+ $\\forall t>0, \\psi(|1-t|) < 1+\\psi(t)$.\n",
    "\n",
    "However, the last condition is redundant and can be removed. To provide this, consider first the case in which $t\\ge 1$. Then, the last condition becomes $\\psi(t-1)< 1+\\psi(t)$, which is already guaranteed by the fact that $\\psi(t-1)<\\psi(t)$ as per the first condition. \n",
    "\n",
    "Now, consider the case in which $0<t<1$. The last condition can then be written as $ \\psi(1-t)-\\psi(t)< 1 $. However, this is already guaranteed by the first two conditions. Specifically, the second condition ensures that, in the limit for $t \\to 0$, $\\psi(1+t)-\\psi(t)<1$ and, by ensuring that $\\psi(1+t)>\\psi(1-t)$, the first condition ensures that $\\psi(1-t)-\\psi(t)<1$. Since the first condition also ensured that $\\forall x<y\\le0.5, \\psi(x)<\\psi(y)<\\psi(1-y)<\\psi(x)$, then $\\psi(1-t)-\\psi(t)<1$ holds for all values of $0<t\\le0.5$. The argument for values of $0.5\\le t<1$ are analogous. Note that continuity of $\\psi$ is not a requirement in this argument."
   ]
  },
  {
   "cell_type": "markdown",
   "metadata": {},
   "source": [
    "## Section 2, revision of proof of theorem 1\n",
    "\n",
    "The proof states that $u_i < \\lfloor y_i \\rfloor$ implies that $\\exists j\\neq i : u_j\\ge \\lfloor y_j \\rfloor +1 \\ge 1$ and $u_j > y_j$, or else $\\mathbf{e}^T\\mathbf{u} = r = \\mathbf{e}^T\\mathbf{y}$ would be contradicted. The implication can be simplified by noticing that $u_j\\ge \\lfloor y_j \\rfloor +1$ already ensures that $u_j\\ge 1$ and that $u_j > y_j$ by the fact that $\\lfloor y_j \\rfloor \\ge 0$. Hence, the implication can be reduced to $u_j\\ge \\lfloor y_j \\rfloor +1$, and since $u_j \\in \\mathbb{N}_+$, can be written as $u_j > y_j$. \n",
    "\n",
    "For this to occur, the condition $u_i < \\lfloor y_i \\rfloor$ is sufficient and necessary in general, but it is inessential when $\\mathbf{y} \\nin \\mathbb{N}_r^n$. Specifically, suppose that $\\mathbf{y} \\in \\mathbb{N}_r^n$, and thus $y_i = \\lfloor y_i \\rfloor$. Hence, If $\\exists j: u_j < y_j$ and $\\nexists k: u_k>y_k$, then $r = \\mathbf{e}^T\\mathbf{y} > \\mathbf{e}^T\\mathbf{u}$ arriving at the contradiction mentioned in the theorem. \n",
    "\n",
    "However, if $\\mathbf{y} \\notin \\mathbb{N}_r^n$, then $\\forall i, y_i > \\lfloor y_i \\rfloor$. Hence, $r = \\mathbf{e}^T\\mathbf{y} > \\mathbf{e}^T\\mathbf{u}$ unless $\\exists j: u_j>y_j$, with the condition being necessary but not sufficient, irrespective of whether $\\exists k:u_k < \\lfloor y_k \\rfloor$. "
   ]
  },
  {
   "cell_type": "code",
   "execution_count": null,
   "metadata": {},
   "outputs": [],
   "source": []
  }
 ],
 "metadata": {
  "kernelspec": {
   "display_name": "Python 3",
   "language": "python",
   "name": "python3"
  },
  "language_info": {
   "codemirror_mode": {
    "name": "ipython",
    "version": 3
   },
   "file_extension": ".py",
   "mimetype": "text/x-python",
   "name": "python",
   "nbconvert_exporter": "python",
   "pygments_lexer": "ipython3",
   "version": "3.5.2"
  }
 },
 "nbformat": 4,
 "nbformat_minor": 4
}
